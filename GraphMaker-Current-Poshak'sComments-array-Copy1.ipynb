{
 "cells": [
  {
   "cell_type": "code",
   "execution_count": 33,
   "metadata": {},
   "outputs": [],
   "source": [
    "#from operator import add\n",
    "#from astropy import units as u\n",
    "#from astropy.coordinates import SkyCoord\n",
    "#from astropy.stats import LombScargle\n",
    "#from gatspy.periodic import LombScargleFast\n",
    "#from functools import partial\n",
    "#from gatspy import periodic\n",
    "import matplotlib.pyplot as plt\n",
    "#from matplotlib.font_manager import FontProperties\n",
    "import lomb_scargle_multiband as periodic\n",
    "#from multiprocessing import Pool\n",
    "import numpy as np\n",
    "import os\n",
    "#from sqlite3 import *\n",
    "import random\n",
    "from random import shuffle\n",
    "from random import randint\n",
    "import Observations\n",
    "import Magnitudes\n",
    "import simulate_lc as lc_sim\n",
    "#import time"
   ]
  },
  {
   "cell_type": "code",
   "execution_count": 34,
   "metadata": {
    "collapsed": true
   },
   "outputs": [],
   "source": [
    "# LSST zero points  u,g,r,i,z,y\n",
    "zeroPoints = [0,26.5,28.3,28.13,27.79,27.4,26.58]\n",
    "FWHMeff = [0.8,0.92,0.87,0.83,0.80,0.78,0.76] # arcmins?\n",
    "pixelScale = 0.2\n",
    "readOut = 12.7\n",
    "sigSys = 0.005\n",
    "flareperiod = 1024\n",
    "flarecycles = 10\n",
    "dayinsec=86400\n",
    "background = 40\n",
    "# sat mag u,g,r,i,z,y=14.7,15.7,15.8,15.8,15.3 and 13.9\n",
    "# start date 59580.033829 end date + 10 years\n",
    "#maglist=[20]*7\n",
    "\n",
    "lim = [0, 23.5, 24.8, 24.4, 23.9, 23.3, 22.1] # limiting magnitude ugry\n",
    "sat = [0, 14.7, 15.7, 15.8, 15.8, 15.3, 13.9] # sat mag as above\n",
    "\n",
    "\n",
    "# In[15]:\n",
    "\n",
    "\n",
    "looooops = 1\n",
    "maglength = 5\n",
    "freqlength = 5\n",
    "processors = 5\n",
    "\n",
    "startnumber = 0 + 0                  \n",
    "endnumber = startnumber + 1\n",
    "\n",
    "#observingStrategy = 'minion'\n",
    "observingStrategy = 'astroD'\n",
    "#observingStrategy = 'panstars'\n",
    "\n",
    "\n",
    "\n",
    "inFile = '/home/mj1e16/periodic/in'+str(startnumber)+'.txt'\n",
    "outFile = '/home/mj1e16/periodic/outminion630'+str(startnumber)+'.txt'\n",
    "\n",
    "#inFile = '/home/ubuntu/vagrant/'+observingStrategy+'/in'+observingStrategy+'KtypefullresultsFile'+str(startnumber)+'.txt'\n",
    "#outFile = '/home/ubuntu/vagrant/'+observingStrategy+'/out'+observingStrategy+'KtypefullresultsFile'+str(startnumber)+'.txt'\n",
    "\n",
    "\n",
    "#obs = Observations.obsastro630\n",
    "obs = np.linspace(59630.320217,59630.320217+(365.25*10),100000)\n",
    "#obs = obs.tolist()\n",
    "obs = [obs]*7\n",
    "obs = np.asarray(obs)\n",
    "\n",
    "# for y in range(len(obs)):\n",
    "#     obs[y] = [x + random.random() for x in obs[y]]\n",
    "\n",
    "#In[19]:"
   ]
  },
  {
   "cell_type": "code",
   "execution_count": 35,
   "metadata": {},
   "outputs": [
    {
     "data": {
      "text/plain": [
       "0.44939358867342394"
      ]
     },
     "execution_count": 35,
     "metadata": {},
     "output_type": "execute_result"
    }
   ],
   "source": [
    "random.random()"
   ]
  },
  {
   "cell_type": "code",
   "execution_count": null,
   "metadata": {
    "collapsed": true
   },
   "outputs": [],
   "source": []
  },
  {
   "cell_type": "code",
   "execution_count": 36,
   "metadata": {
    "collapsed": true
   },
   "outputs": [],
   "source": [
    "def magUncertainy(Filter, objectmag, exposuretime,background, FWHM): # b is background counts per pixel   \n",
    "    countsPS = 10**((Filter-objectmag)/2.5)\n",
    "    counts = countsPS * exposuretime\n",
    "    uncertainty = 1/(counts/((counts/2.3)+(((background/2.3)+(12.7**2))*2.266*((FWHM/0.2)**2)))**0.5) # gain assumed to be 1\n",
    "    return uncertainty\n",
    "#from lsst should have got the website! https://smtn-002.lsst.io/\n",
    "\n",
    "\n",
    "def averageFlux(observations, Frequency, exptime):\n",
    "    #b = [0]*len(observations)\n",
    "    b = np.zeros(len(observations))\n",
    "    for seconds in range(0, exptime):\n",
    "        ##aOld = [np.sin((2*np.pi*(Frequency))*(x+(seconds/(3600*24)))) for x in observations] # optical modulation\n",
    "        a = np.sin((2*np.pi*(Frequency))*(observations+(seconds/(3600*24))))\n",
    "        for x in range(len(aOld)):\n",
    "            if aOld[x] != a[x]:\n",
    "                print('no in average flux')\n",
    "        b = a+b\n",
    "        #b = map(add, a, b)\n",
    "    c = b/exptime\n",
    "    #c = [z/exptime for z in b]\n",
    "    return c\n",
    "\n",
    "def Flux(observations,Frequency,exptime):\n",
    "    a = np.sin((2*np.pi*(Frequency)*observations))\n",
    "    #a = [np.sin((2*np.pi*(Frequency)*x)) for x in observations]\n",
    "    return a\n",
    "\n",
    "\n",
    "def ellipsoidalFlux(observations, Frequency,exptime):\n",
    "    period = 1/(Frequency)\n",
    "    #print(period)\n",
    "    phase = (observations % (2*period))\n",
    "    #phase = [(x % (2*period)) for x in observations]\n",
    "    #b = [0]*len(observations)\n",
    "    b = np.zeros(len(observations))\n",
    "    for seconds in range(0, exptime):\n",
    "        a = np.sin((2*np.pi*(Frequency))*(observations+(seconds/(3600*24))))\n",
    "        #a = [np.sin((2*np.pi*(Frequency))*(x+(seconds/(3600*24)))) for x in observations] # optical modulation\n",
    "        #b = map(add, a, b)\n",
    "        b = a + b\n",
    "    #c = [z/exptime for z in b]\n",
    "    c = b/exptime\n",
    "    for x in range(0,len(phase)):\n",
    "        if (phase[x]+(1.5*period)) < (3*period):\n",
    "            c[x] = c[x]*(1./3.)\n",
    "        else:\n",
    "            c[x] = c[x]*(2./3.)\n",
    "    return c\n"
   ]
  },
  {
   "cell_type": "code",
   "execution_count": 37,
   "metadata": {
    "collapsed": true
   },
   "outputs": [],
   "source": [
    "# longflare = lc_sim(1024,1,0.,'unbroken',[1.0, 8., 2.0, -1.])\n",
    "# print(longflare)\n",
    "\n",
    "# #longflare = longflare[longflare > 0.]\n",
    "# #STD = np.std(longflare)\n",
    "# #longflare = 0.1*(longflare/STD)\n",
    "# #longflare = [x for x in longflare if x > 0.]\n",
    "# print(np.std(longflare))\n",
    "# plt.plot(longflare)\n",
    "# plt.show()"
   ]
  },
  {
   "cell_type": "code",
   "execution_count": 38,
   "metadata": {},
   "outputs": [
    {
     "name": "stdout",
     "output_type": "stream",
     "text": [
      "0.0164279341856\n",
      "0.1\n"
     ]
    },
    {
     "data": {
      "image/png": "[encoded data removed]",
      "text/plain": [
       "<matplotlib.figure.Figure at 0x7fc4cbec1810>"
      ]
     },
     "metadata": {},
     "output_type": "display_data"
    }
   ],
   "source": [
    "longflare = lc_sim.lc_sim(2880*366*11,30,0.,'unbroken',[1.0, 8., 1.0, -1.])\n",
    "longflare = np.abs(longflare)\n",
    "STD = np.std(longflare)\n",
    "longflare = 0.1*(longflare/STD)\n",
    "print(STD)\n",
    "print(np.std(longflare))\n",
    "plt.plot(longflare)\n",
    "plt.show()"
   ]
  },
  {
   "cell_type": "code",
   "execution_count": 39,
   "metadata": {},
   "outputs": [
    {
     "name": "stdout",
     "output_type": "stream",
     "text": [
      "0.130468460402\n",
      "0.109405193655\n"
     ]
    },
    {
     "data": {
      "image/png": "[encoded data removed]",
      "text/plain": [
       "<matplotlib.figure.Figure at 0x7fc4cbf23a50>"
      ]
     },
     "metadata": {},
     "output_type": "display_data"
    }
   ],
   "source": [
    "print(np.mean(longflare))\n",
    "print(np.median(longflare))\n",
    "number,bins,patches = plt.hist(longflare,bins='auto')\n",
    "plt.show()\n",
    "#plt.hist(longflare)"
   ]
  },
  {
   "cell_type": "code",
   "execution_count": 40,
   "metadata": {
    "collapsed": true
   },
   "outputs": [],
   "source": [
    "def plotPowerSpectrum(model,freqs,power,frequencyRange,period,LSperiod):\n",
    "    \n",
    "    #LSperiod = model.best_period\n",
    "\n",
    "\n",
    "    fig, ax = plt.subplots()\n",
    "    ax.plot((1/freqs), power)\n",
    "    ax.plot((LSperiod),0.1,'ro')\n",
    "    ax.plot(period,0.15,'bo')\n",
    "    ax.set(yscale='log',\n",
    "           xscale='log',\n",
    "           xlabel='Period',\n",
    "           ylabel='Lomb-Scargle Power',\n",
    "          title='Period = '+str(period)+', MeasuredPeriod = '+str(LSperiod));\n",
    "    #plt.savefig('rMag'+str(objectmag[3])+'Period'+str(period)+graphtitle+'.png')\n",
    "    plt.show()\n",
    "    \n",
    "    print('actual',period,'measured',model.best_period)\n",
    "    print( model.optimizer.period_range)"
   ]
  },
  {
   "cell_type": "code",
   "execution_count": 58,
   "metadata": {
    "collapsed": true
   },
   "outputs": [],
   "source": [
    "def lombScargle(frequencyRange,graphtitle='Oops',longflare=longflare,objectmag=20,loopNo=looooops,numsteps=10000): # frequency range and object mag in list\n",
    "    \n",
    "    t0 = time.time()\n",
    "    \n",
    "    results = {}\n",
    "    totperiod,totmperiod,totpower,SigLevel = [],[],[],[] # resetSigLevel = []\n",
    "    filterletter = ['o','u','g','r','i','z','y']\n",
    "    \n",
    "    period = 1/(frequencyRange) \n",
    "    half = frequencyRange*0.5\n",
    "    double = frequencyRange*2\n",
    "    \n",
    "    fmin=(1/3)  #0.02 #0.5*frequencyRange#\n",
    "    fmax=(1/0.003) #300 #2*frequencyRange\n",
    "    \n",
    "    df = (fmax-fmin)/numsteps\n",
    "    modulationAmplitude=0.1\n",
    "    \n",
    "    measuredpower = [] # reset\n",
    "    #for \n",
    "    #y = np.zeros((7,1))\n",
    "    y = [[], [], [], [], [], [], []]\n",
    "    #y = np.array([[0], [0], [0], [0], [0], [0], [0]]) # for looping only\n",
    "    for z in range(1, len(y)):\n",
    "        y[z] = modulationAmplitude*(ellipsoidalFlux(obs[z], frequencyRange,30))\n",
    "        #y[z] = [modulationAmplitude * t for t in y[z]] # scaling\n",
    "        for G in range(0, len(y[z])):\n",
    "            flareMinute = int(round(((obs[z][G]-obs[0][0])*24*60*2)))\n",
    "            y[z][G] = y[z][G] + longflare[flareMinute] # add flares swapped to second but not changing the name intrtoduces fewer bugs\n",
    "    t1 = time.time()\n",
    "    print('Making Lightcurve',(t1-t0))\n",
    "    y = np.asarray(y)\n",
    "    date,amplitude,mag,error,filts = [],[],[],[],[]\n",
    "    for z in range(1, len(y)):\n",
    "        if objectmag[z] > sat[z] and objectmag[z] < lim[z]:\n",
    "            if z == 3:\n",
    "                dater = obs[z]\n",
    "                magr = [objectmag[z] - t for t in amplitude]\n",
    "            #date.extend([x for x in obs[z]])\n",
    "            date.extend(obs[z])\n",
    "            amplitude = y[z] + random.gauss(0,magUncertainy(zeroPoints[z],objectmag[z],30,background,FWHMeff[z]))\n",
    "            #amplitude = [t + random.gauss(0,magUncertainy(zeroPoints[z],objectmag[z],30,background,FWHMeff[z])) for t in y[z]] # scale amplitude and add poisson noise\n",
    "            mag.extend(objectmag[z] - amplitude)\n",
    "            #mag.extend([objectmag[z] - t for t in amplitude]) # add actual mag\n",
    "            error.extend([sigSys + magUncertainy(zeroPoints[z],objectmag[z],30,background,FWHMeff[z])+0.2]*len(amplitude))\n",
    "            filts.extend([filterletter[z]]*len(amplitude))\n",
    "            \n",
    "            \n",
    "#             phase = (obs[z] % (period*2))/(period*2)\n",
    "#             phase = [(day % (period*2))/(period*2) for day in obs[z]]\n",
    "#             pmag = [objectmag[z] - t for t in amplitude]\n",
    "#         plt.plot(phase, pmag, 'o', markersize=4)\n",
    "#         plt.xlabel('Phase')\n",
    "#         plt.ylabel('Magnitude')\n",
    "#         plt.gca().invert_yaxis()\n",
    "#         plt.title('filter'+str(z)+', Period = '+str(period))#+', MeasuredPeriod = '+str(LSperiod)+', Periodx20 = '+(str(period*20)))\n",
    "#         plt.show()\n",
    "\n",
    "#     plt.plot(date, mag, 'o')\n",
    "# #     lower = date[30]\n",
    "# #     higher = date[30]+(5*period)\n",
    "# #     plt.xlim(lower,higher)\n",
    "#     plt.xlabel('time (days)')\n",
    "#     plt.ylabel('mag')\n",
    "#     plt.gca().invert_yaxis()\n",
    "#     plt.show()\n",
    "    #baseline = 110\n",
    "    #baseline = date[-1]-date[0]\n",
    "    date = np.asarray(date)\n",
    "    mag = np.asarray(mag)\n",
    "    filts = np.asarray(filts)\n",
    "    error = np.asarray(error)\n",
    "    \n",
    "    t2 = time.time()\n",
    "    print('formating', (t2-t1))\n",
    "    \n",
    "    model = periodic.LombScargleMultibandFast(fit_period=False)\n",
    "    model.optimizer.period_range=(0.003, 0.1)\n",
    "    model.fit(date, mag, error, filts)\n",
    "    \n",
    "    t3 = time.time()\n",
    "    print('making model', (t3-t2))\n",
    "    \n",
    "    LSperiod = model.best_period\n",
    "    print(LSperiod)\n",
    "    \n",
    "    t4 = time.time()\n",
    "    print('find Period', t4-t3)\n",
    "    \n",
    "    df = (1/LSperiod)/numsteps\n",
    "    fmin = 0.5*(1/LSperiod)\n",
    "    \n",
    "    freqs = fmin + df * np.arange(numsteps)\n",
    "    \n",
    "    #freqs = fmin + df * np.arange(numsteps) \n",
    "    power = model.score_frequency_grid(fmin, df, numsteps) \n",
    "    maxpowerlow = power.max()\n",
    "    position = np.where(power==maxpowerlow)\n",
    "    Top = np.argsort(power)[-5:]\n",
    "    for i,item in enumerate(Top):\n",
    "        print('Freq'+str(i),freqs[item])\n",
    "    altPeriod = 1/freqs[position]\n",
    "    print('Second Period',altPeriod)\n",
    "    \n",
    "    timearoni = time.time()\n",
    "    print('Second Period Time',(timearoni-t4))\n",
    "    \n",
    "    #print(model.best_scores)\n",
    "\n",
    "    fig, ax = plt.subplots()\n",
    "    ax.plot(freqs, power)\n",
    "    ax.plot((1/LSperiod),0.1,'ro')\n",
    "    ax.set(yscale='log',\n",
    "           xscale='log',\n",
    "           xlabel='Frequency',\n",
    "           ylabel='Lomb-Scargle Power',\n",
    "          title='Frequency = '+str(frequencyRange)+', MeasuredFrequency = '+str(1/LSperiod));\n",
    "    #plt.savefig('rMagPeriod.png')\n",
    "    plt.show()\n",
    "    \n",
    "    t5 = time.time()\n",
    "    print ('Plot Lightcurve', (t5-t4))\n",
    "    \n",
    "    #plotPowerSpectrum(model,freqs,power,frequencyRange,period,LSperiod)\n",
    "    \n",
    "#     freqs = np.logspace(np.log10(fmin),np.log10(fmax),numsteps)\n",
    "#     power = model.score_frequency_grid(fmin, df, numsteps) \n",
    "#     plotPowerSpectrum(model,freqs,power,frequencyRange,period)\n",
    "\n",
    "    #phase = [(day % (period*2))/(period*2) for day in date]\n",
    "    #idealphase = [(day % (period*2))/(period*2) for day in dayZ]\n",
    "    #print(len(phase),len(idealphase))\n",
    "    #plt.plot(idealphase,Zmag,'ko',)\n",
    "#     plt.plot(phase, mag, 'o', markersize=4)\n",
    "#     plt.xlabel('Phase')\n",
    "#     plt.ylabel('Magnitude')\n",
    "#     plt.gca().invert_yaxis()\n",
    "#     plt.title('Period = '+str(period)+', MeasuredPeriod = '+str(LSperiod)+', Periodx20 = '+(str(period*20)))\n",
    "#     plt.show()\n",
    "    #print(period, LSperiod, period*20)\n",
    "\n",
    "    mpower = power.max()\n",
    "    measuredpower.append(power.max()) # should this correspond to period power and not max power?\n",
    "    maxpower = []           \n",
    "    counter = 0.\n",
    "    for loop in range(0,loopNo):\n",
    "        random.shuffle(date)\n",
    "        model = periodic.LombScargleMultibandFast(fit_period=False)\n",
    "        model.fit(date, mag, error, filts)\n",
    "        power = model.score_frequency_grid(fmin, df, numsteps)  \n",
    "        maxpower.append(power.max())\n",
    "    t6 = time.time()\n",
    "    print('looping', (t6-t5))\n",
    "    \n",
    "    for X in range(0, len(maxpower)):\n",
    "        if maxpower[X] > measuredpower[-1]:\n",
    "            counter = counter + 1. \n",
    "    Significance = (1.-(counter/len(maxpower)))\n",
    "    SigLevel.append(Significance)\n",
    "    \n",
    "    results[0] = objectmag[3]\n",
    "    results[1] = period\n",
    "    results[2] = LSperiod\n",
    "    results[3] = Significance\n",
    "    results[4] = mpower\n",
    "    results[5] = 0#listnumber\n",
    "    return results"
   ]
  },
  {
   "cell_type": "code",
   "execution_count": 59,
   "metadata": {
    "collapsed": true
   },
   "outputs": [],
   "source": [
    "# tfit = np.linspace(0, model.best_period, 1000)\n",
    "# filtsfit = np.array(list('ugriz'))[:, np.newaxis]\n",
    "# magfit = model.predict(tfit, filts=filtsfit)\n",
    "# for single filter stuff\n"
   ]
  },
  {
   "cell_type": "code",
   "execution_count": 63,
   "metadata": {
    "scrolled": true
   },
   "outputs": [
    {
     "name": "stdout",
     "output_type": "stream",
     "text": [
      "11594880\n"
     ]
    },
    {
     "name": "stderr",
     "output_type": "stream",
     "text": [
      "/home/mj1e16/miniconda2/envs/astroconda/lib/python2.7/site-packages/ipykernel_launcher.py:33: RuntimeWarning: invalid value encountered in remainder\n"
     ]
    },
    {
     "name": "stdout",
     "output_type": "stream",
     "text": [
      "('Making Lightcurve', 3.6075661182403564)\n",
      "('formating', 0.3099479675292969)\n",
      "('making model', 0.10039210319519043)\n",
      "Finding optimal frequency:\n",
      " - Estimated peak width = 0.00172\n",
      " - Using 5 steps per peak; omega_step = 0.000344\n",
      " - User-specified period range:  0.003 to 0.1\n",
      " - Computing periods at 5904876 steps\n",
      "Zooming-in on 5 candidate peaks:\n",
      " - Computing periods at 1000 steps\n",
      "[ 0.00325651]\n",
      "('find Period', 192.27755284309387)\n",
      "('Freq0', 244.02230127891892)\n",
      "('Freq1', 449.65990009406102)\n",
      "('Freq2', 430.46754886217263)\n",
      "('Freq3', 153.53880985510716)\n",
      "('Freq4', 307.07761971021432)\n",
      "('Second Period', array([ 0.00325651]))\n",
      "('Second Period Time', 2.664677143096924)\n"
     ]
    },
    {
     "data": {
      "image/png": "[encoded data removed]",
      "text/plain": [
       "<matplotlib.figure.Figure at 0x7fc4c68c2f50>"
      ]
     },
     "metadata": {},
     "output_type": "display_data"
    },
    {
     "name": "stdout",
     "output_type": "stream",
     "text": [
      "('Plot Lightcurve', 4.225717067718506)\n",
      "('looping', 3.0878729820251465)\n",
      "('Making Lightcurve', 3.3210229873657227)\n",
      "('formating', 0.28936100006103516)\n",
      "('making model', 0.09768319129943848)\n",
      "Finding optimal frequency:\n",
      " - Estimated peak width = 0.00172\n",
      " - Using 5 steps per peak; omega_step = 0.000344\n",
      " - User-specified period range:  0.003 to 0.1\n",
      " - Computing periods at 5904876 steps\n",
      "Zooming-in on 5 candidate peaks:\n",
      " - Computing periods at 1000 steps\n",
      "[ 0.00303454]\n",
      "('find Period', 189.83948493003845)\n",
      "('Freq0', 453.45199200479254)\n",
      "('Freq1', 311.42735608799956)\n",
      "('Freq2', 297.73831396079277)\n",
      "('Freq3', 329.53880903242145)\n",
      "('Freq4', 164.76940451621073)\n",
      "('Second Period', array([ 0.00606909]))\n",
      "('Second Period Time', 2.456449031829834)\n"
     ]
    },
    {
     "data": {
      "image/png": "[encoded data removed]",
      "text/plain": [
       "<matplotlib.figure.Figure at 0x7fc4c5981090>"
      ]
     },
     "metadata": {},
     "output_type": "display_data"
    },
    {
     "name": "stdout",
     "output_type": "stream",
     "text": [
      "('Plot Lightcurve', 4.061140060424805)\n",
      "('looping', 2.951119899749756)\n",
      "('Making Lightcurve', 3.209829807281494)\n",
      "('formating', 0.2856161594390869)\n",
      "('making model', 0.09915399551391602)\n",
      "Finding optimal frequency:\n",
      " - Estimated peak width = 0.00172\n",
      " - Using 5 steps per peak; omega_step = 0.000344\n",
      " - User-specified period range:  0.003 to 0.1\n",
      " - Computing periods at 5904876 steps\n",
      "Zooming-in on 5 candidate peaks:\n",
      " - Computing periods at 1000 steps\n",
      "[ 0.00305774]\n",
      "('find Period', 188.93397784233093)\n",
      "('Freq0', 286.72146609511879)\n",
      "('Freq1', 327.03881067515141)\n",
      "('Freq2', 204.96176342633089)\n",
      "('Freq3', 409.92352685266178)\n",
      "('Freq4', 163.51940533757571)\n",
      "('Second Period', array([ 0.00611548]))\n",
      "('Second Period Time', 2.3018510341644287)\n"
     ]
    },
    {
     "data": {
      "image/png": "[encoded data removed]",
      "text/plain": [
       "<matplotlib.figure.Figure at 0x7fc4c5de7710>"
      ]
     },
     "metadata": {},
     "output_type": "display_data"
    },
    {
     "name": "stdout",
     "output_type": "stream",
     "text": [
      "('Plot Lightcurve', 3.796849012374878)\n",
      "('looping', 2.998547077178955)\n"
     ]
    }
   ],
   "source": [
    "import time\n",
    "\n",
    "PrangeLoop = np.logspace(-2.5,2,freqlength)\n",
    "FrangeLoop = [(1/x) for x in PrangeLoop]\n",
    "\n",
    "FrangeLoop = [350,1,1.5,2,2.5]\n",
    "\n",
    "noObs = 100000\n",
    "\n",
    "obs = np.linspace(59630.320217,59630.320217+(365.25*10),noObs)\n",
    "obs = obs.tolist()\n",
    "obs = [obs]*7\n",
    "\n",
    "#noObs = 'astro'\n",
    "\n",
    "#obs = Observations.obsastro630\n",
    "obs = np.asarray(obs)\n",
    "for x in range(len(obs)):\n",
    "    obs[x] = np.asarray(obs[x])\n",
    "\n",
    "\n",
    "results = []\n",
    "# fullmeasuredPeriod = []\n",
    "# fullPeriod = []\n",
    "# fullPower = []\n",
    "# fullSigLevel = []\n",
    "# fullMag = []\n",
    "# MagRangearray = np.linspace(17,24,maglength)\n",
    "# MagRange = [x for x in MagRangearray]\n",
    "# maglist = []\n",
    "# for x in range(len(MagRange)):\n",
    "#     maglist.append([MagRange[x]]*7)\n",
    "\n",
    "#newlist = np.linspace(59630,(10*365),10000)\n",
    "#newlist = newlist.tolist()\n",
    "#newlist = [newlist]*7\n",
    "#print(len(newlist))\n",
    "newlist = Magnitudes.mag630\n",
    "\n",
    "print(len(longflare))\n",
    "FrangeLoop = FrangeLoop\n",
    "#lombScargle(FrangeLoop[0],objectmag=newlist[0])\n",
    "\n",
    "#pool = Pool(processors)\n",
    "for h in range(startnumber,endnumber):\n",
    "    for i in range(3):\n",
    "        results.append(lombScargle(FrangeLoop[i],objectmag=newlist[h],graphtitle=str(noObs),numsteps=50000)) \n",
    "    #print(newlist[h])\n",
    "    #results.append(pool.map(partial(lombScargle, objectmag=newlist[h],graphtitle=str(noObs)),FrangeLoop))\n"
   ]
  },
  {
   "cell_type": "code",
   "execution_count": 64,
   "metadata": {},
   "outputs": [
    {
     "data": {
      "text/plain": [
       "164.76934762872193"
      ]
     },
     "execution_count": 64,
     "metadata": {},
     "output_type": "execute_result"
    }
   ],
   "source": [
    "1/0.00606909"
   ]
  },
  {
   "cell_type": "code",
   "execution_count": null,
   "metadata": {
    "collapsed": true
   },
   "outputs": [],
   "source": [
    "noObs = 100000\n",
    "\n",
    "obs = np.linspace(59630.320217,59630.320217+(365.25*10),noObs)\n",
    "obs = obs.tolist()\n",
    "obs = [obs]*7\n",
    "\n",
    "results = []\n",
    "fullmeasuredPeriod = []\n",
    "fullPeriod = []\n",
    "fullPower = []\n",
    "fullSigLevel = []\n",
    "fullMag = []\n",
    "MagRangearray = np.linspace(17,24,maglength)\n",
    "MagRange = [x for x in MagRangearray]\n",
    "maglist = []\n",
    "for x in range(len(MagRange)):\n",
    "    maglist.append([MagRange[x]]*7)\n",
    "\n",
    "#newlist = np.linspace(59630,(10*365),10000)\n",
    "#newlist = newlist.tolist()\n",
    "#newlist = [newlist]*7\n",
    "#print(len(newlist))\n",
    "newlist = Magnitudes.mag630\n",
    "\n",
    "print(len(longflare))\n",
    "FrangeLoop = FrangeLoop[0:3]\n",
    "#lombScargle(FrangeLoop[0],objectmag=newlist[0])\n",
    "\n",
    "pool = Pool(processors)\n",
    "for h in range(startnumber,endnumber):\n",
    "    #print(newlist[h])\n",
    "    results.append(pool.map(partial(lombScargle, objectmag=newlist[h],graphtitle=str(noObs)),FrangeLoop))\n",
    "    \n",
    "    twoDlist = [[],[],[],[],[],[]]\n",
    "    for X in range(len(results)):\n",
    "        for Y in range(len(results[X])):\n",
    "            twoDlist[0].append(results[X][Y][0])\n",
    "            twoDlist[1].append(results[X][Y][1])\n",
    "            twoDlist[2].append(results[X][Y][2])\n",
    "            twoDlist[3].append(results[X][Y][3])\n",
    "            twoDlist[4].append(results[X][Y][4])\n",
    "            twoDlist[5].append(results[X][Y][5])\n",
    "    with open(inFile, 'r') as istr:\n",
    "        with open(outFile,'w') as ostr:\n",
    "            for i, line in enumerate(istr):\n",
    "                # Get rid of the trailing newline (if any).\n",
    "                line = line.rstrip('\\n')\n",
    "                if i % 2 != 0:\n",
    "                    line += str(twoDlist[int((i-1)/2)])+','\n",
    "                ostr.write(line+'\\n')\n"
   ]
  },
  {
   "cell_type": "code",
   "execution_count": null,
   "metadata": {
    "collapsed": true
   },
   "outputs": [],
   "source": [
    "noObs = 1000000 \n",
    "\n",
    "obs = np.linspace(59630.320217,59630.320217+(365.25*10),noObs)\n",
    "obs = obs.tolist()\n",
    "obs = [obs]*7\n",
    "\n",
    "results = []\n",
    "fullmeasuredPeriod = []\n",
    "fullPeriod = []\n",
    "fullPower = []\n",
    "fullSigLevel = []\n",
    "fullMag = []\n",
    "MagRangearray = np.linspace(17,24,maglength)\n",
    "MagRange = [x for x in MagRangearray]\n",
    "maglist = []\n",
    "for x in range(len(MagRange)):\n",
    "    maglist.append([MagRange[x]]*7)\n",
    "\n",
    "#newlist = np.linspace(59630,(10*365),10000)\n",
    "#newlist = newlist.tolist()\n",
    "#newlist = [newlist]*7\n",
    "#print(len(newlist))\n",
    "newlist = Magnitudes.mag630\n",
    "\n",
    "print(len(longflare))\n",
    "FrangeLoop = FrangeLoop[0:3]\n",
    "#lombScargle(FrangeLoop[0],objectmag=newlist[0])\n",
    "\n",
    "pool = Pool(processors)\n",
    "for h in range(startnumber,endnumber):\n",
    "    #print(newlist[h])\n",
    "    results.append(pool.map(partial(lombScargle, objectmag=newlist[h],graphtitle=str(noObs)),FrangeLoop))\n",
    "    \n",
    "    twoDlist = [[],[],[],[],[],[]]\n",
    "    for X in range(len(results)):\n",
    "        for Y in range(len(results[X])):\n",
    "            twoDlist[0].append(results[X][Y][0])\n",
    "            twoDlist[1].append(results[X][Y][1])\n",
    "            twoDlist[2].append(results[X][Y][2])\n",
    "            twoDlist[3].append(results[X][Y][3])\n",
    "            twoDlist[4].append(results[X][Y][4])\n",
    "            twoDlist[5].append(results[X][Y][5])\n",
    "    with open(inFile, 'r') as istr:\n",
    "        with open(outFile,'w') as ostr:\n",
    "            for i, line in enumerate(istr):\n",
    "                # Get rid of the trailing newline (if any).\n",
    "                line = line.rstrip('\\n')\n",
    "                if i % 2 != 0:\n",
    "                    line += str(twoDlist[int((i-1)/2)])+','\n",
    "                ostr.write(line+'\\n')\n"
   ]
  },
  {
   "cell_type": "code",
   "execution_count": null,
   "metadata": {
    "collapsed": true
   },
   "outputs": [],
   "source": [
    "noObs = 10000000\n",
    "\n",
    "obs = np.linspace(59630.320217,59630.320217+(365.25*10),noObs)\n",
    "obs = obs.tolist()\n",
    "obs = [obs]*7\n",
    "\n",
    "results = []\n",
    "fullmeasuredPeriod = []\n",
    "fullPeriod = []\n",
    "fullPower = []\n",
    "fullSigLevel = []\n",
    "fullMag = []\n",
    "MagRangearray = np.linspace(17,24,maglength)\n",
    "MagRange = [x for x in MagRangearray]\n",
    "maglist = []\n",
    "for x in range(len(MagRange)):\n",
    "    maglist.append([MagRange[x]]*7)\n",
    "\n",
    "#newlist = np.linspace(59630,(10*365),10000)\n",
    "#newlist = newlist.tolist()\n",
    "#newlist = [newlist]*7\n",
    "#print(len(newlist))\n",
    "newlist = Magnitudes.mag630\n",
    "\n",
    "print(len(longflare))\n",
    "FrangeLoop = FrangeLoop[0:3]\n",
    "#lombScargle(FrangeLoop[0],objectmag=newlist[0])\n",
    "\n",
    "pool = Pool(processors)\n",
    "for h in range(startnumber,endnumber):\n",
    "    #print(newlist[h])\n",
    "    results.append(pool.map(partial(lombScargle, objectmag=newlist[h],graphtitle=str(noObs)),FrangeLoop))\n",
    "    \n",
    "    twoDlist = [[],[],[],[],[],[]]\n",
    "    for X in range(len(results)):\n",
    "        for Y in range(len(results[X])):\n",
    "            twoDlist[0].append(results[X][Y][0])\n",
    "            twoDlist[1].append(results[X][Y][1])\n",
    "            twoDlist[2].append(results[X][Y][2])\n",
    "            twoDlist[3].append(results[X][Y][3])\n",
    "            twoDlist[4].append(results[X][Y][4])\n",
    "            twoDlist[5].append(results[X][Y][5])\n",
    "    with open(inFile, 'r') as istr:\n",
    "        with open(outFile,'w') as ostr:\n",
    "            for i, line in enumerate(istr):\n",
    "                # Get rid of the trailing newline (if any).\n",
    "                line = line.rstrip('\\n')\n",
    "                if i % 2 != 0:\n",
    "                    line += str(twoDlist[int((i-1)/2)])+','\n",
    "                ostr.write(line+'\\n')\n"
   ]
  },
  {
   "cell_type": "code",
   "execution_count": null,
   "metadata": {
    "collapsed": true
   },
   "outputs": [],
   "source": [
    "noObs = 'astro'\n",
    "\n",
    "obs = Observations.obsastro630\n",
    "\n",
    "results = []\n",
    "fullmeasuredPeriod = []\n",
    "fullPeriod = []\n",
    "fullPower = []\n",
    "fullSigLevel = []\n",
    "fullMag = []\n",
    "MagRangearray = np.linspace(17,24,maglength)\n",
    "MagRange = [x for x in MagRangearray]\n",
    "maglist = []\n",
    "for x in range(len(MagRange)):\n",
    "    maglist.append([MagRange[x]]*7)\n",
    "\n",
    "#newlist = np.linspace(59630,(10*365),10000)\n",
    "#newlist = newlist.tolist()\n",
    "#newlist = [newlist]*7\n",
    "#print(len(newlist))\n",
    "newlist = Magnitudes.mag630\n",
    "\n",
    "print(len(longflare))\n",
    "FrangeLoop = FrangeLoop[0:3]\n",
    "#lombScargle(FrangeLoop[0],objectmag=newlist[0])\n",
    "\n",
    "pool = Pool(processors)\n",
    "for h in range(startnumber,endnumber):\n",
    "    #print(newlist[h])\n",
    "    results.append(pool.map(partial(lombScargle, objectmag=newlist[h],graphtitle=str(noObs)),FrangeLoop))\n",
    "    \n",
    "    twoDlist = [[],[],[],[],[],[]]\n",
    "    for X in range(len(results)):\n",
    "        for Y in range(len(results[X])):\n",
    "            twoDlist[0].append(results[X][Y][0])\n",
    "            twoDlist[1].append(results[X][Y][1])\n",
    "            twoDlist[2].append(results[X][Y][2])\n",
    "            twoDlist[3].append(results[X][Y][3])\n",
    "            twoDlist[4].append(results[X][Y][4])\n",
    "            twoDlist[5].append(results[X][Y][5])\n",
    "    with open(inFile, 'r') as istr:\n",
    "        with open(outFile,'w') as ostr:\n",
    "            for i, line in enumerate(istr):\n",
    "                # Get rid of the trailing newline (if any).\n",
    "                line = line.rstrip('\\n')\n",
    "                if i % 2 != 0:\n",
    "                    line += str(twoDlist[int((i-1)/2)])+','\n",
    "                ostr.write(line+'\\n')\n"
   ]
  },
  {
   "cell_type": "code",
   "execution_count": null,
   "metadata": {
    "collapsed": true
   },
   "outputs": [],
   "source": []
  },
  {
   "cell_type": "code",
   "execution_count": null,
   "metadata": {
    "collapsed": true,
    "scrolled": true
   },
   "outputs": [],
   "source": [
    "results = []\n",
    "fullmeasuredPeriod = []\n",
    "fullPeriod = []\n",
    "fullPower = []\n",
    "fullSigLevel = []\n",
    "fullMag = []\n",
    "MagRangearray = np.linspace(17,24,maglength)\n",
    "MagRange = [x for x in MagRangearray]\n",
    "maglist = []\n",
    "for x in range(len(MagRange)):\n",
    "    maglist.append([MagRange[x]]*7)\n",
    "\n",
    "#newlist = np.linspace(59630,(10*365),10000)\n",
    "#newlist = newlist.tolist()\n",
    "#newlist = [newlist]*7\n",
    "#print(len(newlist))\n",
    "newlist = Magnitudes.mag630\n",
    "\n",
    "print(len(longflare))\n",
    "FrangeLoop = FrangeLoop[0:3]\n",
    "#lombScargle(FrangeLoop[0],objectmag=newlist[0])\n",
    "\n",
    "pool = Pool(processors)\n",
    "for h in range(startnumber,endnumber):\n",
    "    #print(newlist[h])\n",
    "    results.append(pool.map(partial(lombScargle, objectmag=newlist[h]),FrangeLoop))\n",
    "    \n",
    "    twoDlist = [[],[],[],[],[],[]]\n",
    "    for X in range(len(results)):\n",
    "        for Y in range(len(results[X])):\n",
    "            twoDlist[0].append(results[X][Y][0])\n",
    "            twoDlist[1].append(results[X][Y][1])\n",
    "            twoDlist[2].append(results[X][Y][2])\n",
    "            twoDlist[3].append(results[X][Y][3])\n",
    "            twoDlist[4].append(results[X][Y][4])\n",
    "            twoDlist[5].append(results[X][Y][5])\n",
    "    with open(inFile, 'r') as istr:\n",
    "        with open(outFile,'w') as ostr:\n",
    "            for i, line in enumerate(istr):\n",
    "                # Get rid of the trailing newline (if any).\n",
    "                line = line.rstrip('\\n')\n",
    "                if i % 2 != 0:\n",
    "                    line += str(twoDlist[int((i-1)/2)])+','\n",
    "                ostr.write(line+'\\n')\n"
   ]
  },
  {
   "cell_type": "code",
   "execution_count": null,
   "metadata": {
    "collapsed": true
   },
   "outputs": [],
   "source": [
    "obs = np.linspace(59630.320217,59630.320217+(365.25*10),300)\n",
    "obs = obs.tolist()\n",
    "obs = [obs]*7\n",
    "#In[19]:\n",
    "\n",
    "results = []\n",
    "fullmeasuredPeriod = []\n",
    "fullPeriod = []\n",
    "fullPower = []\n",
    "fullSigLevel = []\n",
    "fullMag = []\n",
    "MagRangearray = np.linspace(17,24,maglength)\n",
    "MagRange = [x for x in MagRangearray]\n",
    "maglist = []\n",
    "for x in range(len(MagRange)):\n",
    "    maglist.append([MagRange[x]]*7)\n",
    "\n",
    "#newlist = np.linspace(59630,(10*365),10000)\n",
    "#newlist = newlist.tolist()\n",
    "#newlist = [newlist]*7\n",
    "#print(len(newlist))\n",
    "newlist = Magnitudes.mag630\n",
    "\n",
    "#lombScargle(FrangeLoop[0],objectmag=newlist[0])\n",
    "\n",
    "pool = Pool(processors)\n",
    "for h in range(startnumber,endnumber):\n",
    "    #print(newlist[h])\n",
    "    results.append(pool.map(partial(lombScargle, objectmag=newlist[h]),FrangeLoop))\n",
    "    \n",
    "    twoDlist = [[],[],[],[],[],[]]\n",
    "    for X in range(len(results)):\n",
    "        for Y in range(len(results[X])):\n",
    "            twoDlist[0].append(results[X][Y][0])\n",
    "            twoDlist[1].append(results[X][Y][1])\n",
    "            twoDlist[2].append(results[X][Y][2])\n",
    "            twoDlist[3].append(results[X][Y][3])\n",
    "            twoDlist[4].append(results[X][Y][4])\n",
    "            twoDlist[5].append(results[X][Y][5])\n",
    "    with open(inFile, 'r') as istr:\n",
    "        with open(outFile,'w') as ostr:\n",
    "            for i, line in enumerate(istr):\n",
    "                # Get rid of the trailing newline (if any).\n",
    "                line = line.rstrip('\\n')\n",
    "                if i % 2 != 0:\n",
    "                    line += str(twoDlist[int((i-1)/2)])+','\n",
    "                ostr.write(line+'\\n')\n"
   ]
  },
  {
   "cell_type": "code",
   "execution_count": null,
   "metadata": {
    "collapsed": true
   },
   "outputs": [],
   "source": [
    "obs = np.linspace(59630.320217,59630.320217+(365.25*10),300)\n",
    "obs = obs.tolist()\n",
    "obs = [obs]*7\n",
    "#In[19]:\n",
    "\n",
    "results = []\n",
    "fullmeasuredPeriod = []\n",
    "fullPeriod = []\n",
    "fullPower = []\n",
    "fullSigLevel = []\n",
    "fullMag = []\n",
    "MagRangearray = np.linspace(17,24,maglength)\n",
    "MagRange = [x for x in MagRangearray]\n",
    "maglist = []\n",
    "for x in range(len(MagRange)):\n",
    "    maglist.append([MagRange[x]]*7)\n",
    "\n",
    "#newlist = np.linspace(59630,(10*365),10000)\n",
    "#newlist = newlist.tolist()\n",
    "#newlist = [newlist]*7\n",
    "#print(len(newlist))\n",
    "newlist = Magnitudes.mag630\n"
   ]
  },
  {
   "cell_type": "code",
   "execution_count": null,
   "metadata": {
    "collapsed": true
   },
   "outputs": [],
   "source": [
    "def ellipsoidalFlux(observations,Frequency,exptime):\n",
    "    period = 1/(Frequency)\n",
    "    #print(period)\n",
    "    phase = [(x % (2*period)) for x in observations]\n",
    "    b = [0.]*len(observations)\n",
    "    b = np.asarray(b)\n",
    "    for seconds in range(0, exptime):\n",
    "        a = [np.sin((2*np.pi*(Frequency))*(x+(seconds/(3600*24)))) for x in observations] # optical modulation\n",
    "        b += a\n",
    "    #print(b)\n",
    "    observations = np.asarray(observations)\n",
    "    mag = np.sin(2*np.pi*Frequency*observations)\n",
    "    plt.plot(observations,mag,'o')\n",
    "    plt.show()\n",
    "    c = b/exptime\n",
    "    plt.plot(observations,c,'o')\n",
    "    plt.show()\n",
    "#     for x in range(0,len(phase)):\n",
    "#         if (phase[x]+(1.5*period)) < (3*period):\n",
    "#             c[x] = c[x]*(1./3.)\n",
    "#         else:\n",
    "#             c[x] = c[x]*(2./3.)\n",
    "    return c\n",
    "\n"
   ]
  },
  {
   "cell_type": "code",
   "execution_count": null,
   "metadata": {
    "collapsed": true
   },
   "outputs": [],
   "source": [
    "Obs = np.linspace(59630.320217,59630.320217+(100),5000)\n",
    "plt.plot(Obs,'o')\n",
    "plt.show()\n",
    "frequency = 1\n",
    "ellipsoidal = ellipsoidalFlux(Obs,frequency,30)\n"
   ]
  },
  {
   "cell_type": "code",
   "execution_count": null,
   "metadata": {
    "collapsed": true
   },
   "outputs": [],
   "source": [
    "b = [0,0,0]\n",
    "b = np.asarray(b)\n",
    "for x in range(10):\n",
    "    b += a\n",
    "    print(b[0])\n",
    "print(b)\n",
    "    #c = [1,2,3]\n",
    "    #d= [0.5,0.7,0.8]\n"
   ]
  },
  {
   "cell_type": "code",
   "execution_count": null,
   "metadata": {
    "collapsed": true
   },
   "outputs": [],
   "source": [
    "def graphMaker(Obs,frequency,mag):\n",
    "    \n",
    "#     ellipsoidal = [[]]*len(obs)\n",
    "#     ellipNorm = [[]]*len(obs)\n",
    "    modulationAmplitude = 0.1\n",
    "    #for y in range(len(Obs)):\n",
    "    ellipsoidal = ellipsoidalFlux(Obs,frequency,30)\n",
    "\n",
    "    ellipNorm = [modulationAmplitude * t for t in ellipsoidal] \n",
    "\n",
    "    ellipNorm = [17+x for x in ellipNorm]\n",
    "\n",
    "#    scatter = []\n",
    "#     for G in range(0, len(Obs)):\n",
    "#         flareMinute = int(round(((Obs[G]-Obs[0])*24*60)))\n",
    "#         if flareMinute == len(longflare):\n",
    "#             flareMinute += -1\n",
    "                    \n",
    "                \n",
    "#         scatter.append(longflare[flareMinute])\n",
    "        \n",
    "#         #ellipNorm[G] += longflare[flareMinute]\n",
    "#     #print(scatter)    \n",
    "    #plt.plot(Obs,ellipNorm,'o')\n",
    "    plt.title('Light Curve: Period = '+str(1/frequency))\n",
    "    plt.xlabel('Time (days)')\n",
    "    plt.ylabel('Magnitude')\n",
    "    plt.gca().invert_yaxis()\n",
    "    plt.show()\n",
    "#     print(np.mean(scatter))\n",
    "#     print(np.std(scatter))\n",
    "#     plt.plot(Obs,ellipNorm)\n",
    "#     plt.title('Light Curve: Period = '+str(1/frequency))\n",
    "#     plt.xlim([Obs[30],Obs[45]])\n",
    "#     plt.xlabel('Time (days)')\n",
    "#     plt.ylabel('Magnitude')\n",
    "#     plt.gca().invert_yaxis()\n",
    "#     plt.show()"
   ]
  },
  {
   "cell_type": "code",
   "execution_count": null,
   "metadata": {
    "collapsed": true
   },
   "outputs": [],
   "source": []
  },
  {
   "cell_type": "code",
   "execution_count": null,
   "metadata": {
    "collapsed": true
   },
   "outputs": [],
   "source": [
    "#obs = np.linspace(59630.320217,59630.320217+(365.25*10),1000)\n",
    "obs = Observations.obsminion630\n",
    "\n",
    "for y in range(len(FrangeLoop)):\n",
    "    graphMaker(obs[0],FrangeLoop[y],newlist[0][0])"
   ]
  },
  {
   "cell_type": "code",
   "execution_count": null,
   "metadata": {
    "collapsed": true
   },
   "outputs": [],
   "source": [
    "(obs[0][-1]-obs[0][0])*24*60"
   ]
  },
  {
   "cell_type": "code",
   "execution_count": null,
   "metadata": {
    "collapsed": true
   },
   "outputs": [],
   "source": [
    "len(longflare)"
   ]
  },
  {
   "cell_type": "code",
   "execution_count": 26,
   "metadata": {},
   "outputs": [
    {
     "data": {
      "text/plain": [
       "-2.5086383061657274"
      ]
     },
     "execution_count": 26,
     "metadata": {},
     "output_type": "execute_result"
    }
   ],
   "source": [
    "np.log10(0.0031)"
   ]
  },
  {
   "cell_type": "code",
   "execution_count": 22,
   "metadata": {},
   "outputs": [
    {
     "data": {
      "text/plain": [
       "0.0820849986238988"
      ]
     },
     "execution_count": 22,
     "metadata": {},
     "output_type": "execute_result"
    }
   ],
   "source": [
    "np.exp(-2.5)"
   ]
  },
  {
   "cell_type": "code",
   "execution_count": 28,
   "metadata": {},
   "outputs": [
    {
     "data": {
      "text/plain": [
       "1.3979400086720377"
      ]
     },
     "execution_count": 28,
     "metadata": {},
     "output_type": "execute_result"
    }
   ],
   "source": [
    "np.log10(25)"
   ]
  },
  {
   "cell_type": "code",
   "execution_count": 19,
   "metadata": {},
   "outputs": [
    {
     "data": {
      "text/plain": [
       "-2.9208187539523753"
      ]
     },
     "execution_count": 19,
     "metadata": {},
     "output_type": "execute_result"
    }
   ],
   "source": [
    "np.log10(0.0012)"
   ]
  },
  {
   "cell_type": "code",
   "execution_count": 29,
   "metadata": {},
   "outputs": [
    {
     "data": {
      "text/plain": [
       "4.464"
      ]
     },
     "execution_count": 29,
     "metadata": {},
     "output_type": "execute_result"
    }
   ],
   "source": [
    "0.0031*60*24"
   ]
  },
  {
   "cell_type": "code",
   "execution_count": null,
   "metadata": {
    "collapsed": true
   },
   "outputs": [],
   "source": []
  }
 ],
 "metadata": {
  "kernelspec": {
   "display_name": "Python 2",
   "language": "python",
   "name": "python2"
  },
  "language_info": {
   "codemirror_mode": {
    "name": "ipython",
    "version": 2
   },
   "file_extension": ".py",
   "mimetype": "text/x-python",
   "name": "python",
   "nbconvert_exporter": "python",
   "pygments_lexer": "ipython2",
   "version": "2.7.13"
  }
 },
 "nbformat": 4,
 "nbformat_minor": 2
}
