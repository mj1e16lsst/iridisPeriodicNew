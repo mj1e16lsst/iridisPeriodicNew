{
 "cells": [
  {
   "cell_type": "code",
   "execution_count": 5,
   "metadata": {
    "collapsed": true
   },
   "outputs": [],
   "source": [
    "import numpy as np\n",
    "import matplotlib.pyplot as plt"
   ]
  },
  {
   "cell_type": "code",
   "execution_count": 42,
   "metadata": {
    "collapsed": true
   },
   "outputs": [],
   "source": [
    "mag = [24.4, 23.7, 23.7, 23.474, 23.1, 22.535, 22.309, 22.055, 22.055, 21.956, 21.71, 21.3, 21.3, 21.1, 20.956, 20.75, 20.71, 20.055, 19.92, 19.25, 19.2, 19.055, 19.044, 18.956, 18.3, 17.137, 16.58, 16.3, 13.519]"
   ]
  },
  {
   "cell_type": "code",
   "execution_count": 43,
   "metadata": {
    "collapsed": true
   },
   "outputs": [],
   "source": [
    "period = [7, 812, 2.414, 4.9, 21, 6.58, np.nan, 7.69, np.nan, np.nan, 2.8, 8.258095, 6.8449, np.nan, 2.85, 5.09185, 61.068, np.nan, 10.38254, np.nan, np.nan, 4.078414, 37.0088, np.nan, np.nan, np.nan, 155.311, 62.92, 67.6152]"
   ]
  },
  {
   "cell_type": "code",
   "execution_count": 24,
   "metadata": {},
   "outputs": [
    {
     "data": {
      "image/png": "[encoded data removed]",
      "text/plain": [
       "<matplotlib.figure.Figure at 0x7fe8e65a6b00>"
      ]
     },
     "metadata": {},
     "output_type": "display_data"
    }
   ],
   "source": [
    "plt.plot(mag,period,'o')\n",
    "plt.semilogy()\n",
    "#plt.set_yscale('log')\n",
    "#plt.ylim(0,)\n",
    "plt.show()"
   ]
  },
  {
   "cell_type": "code",
   "execution_count": 32,
   "metadata": {
    "collapsed": true
   },
   "outputs": [],
   "source": [
    "mag2 = []\n",
    "period2 = []\n",
    "for x in range(len(mag)):\n",
    "    if period[x] != np.nan:\n",
    "        mag2.append(mag[x])\n",
    "        period2.append(period[x])\n",
    "\n",
    "mag2 = np.asarray(mag)\n",
    "period2 = np.asarray(period)\n"
   ]
  },
  {
   "cell_type": "code",
   "execution_count": 34,
   "metadata": {
    "collapsed": true
   },
   "outputs": [],
   "source": [
    "p = np.polyfit(mag2,period2,1)"
   ]
  },
  {
   "cell_type": "code",
   "execution_count": 37,
   "metadata": {},
   "outputs": [
    {
     "data": {
      "text/plain": [
       "array([   7.      ,  812.      ,    2.414   ,    4.9     ,   21.      ,\n",
       "          6.58    ,         nan,    7.69    ,         nan,         nan,\n",
       "          2.8     ,    8.258095,    6.8449  ,         nan,    2.85    ,\n",
       "          5.09185 ,   61.068   ,         nan,   10.38254 ,         nan,\n",
       "               nan,    4.078414,   37.0088  ,         nan,         nan,\n",
       "               nan,  155.311   ,   62.92    ,   67.6152  ])"
      ]
     },
     "execution_count": 37,
     "metadata": {},
     "output_type": "execute_result"
    }
   ],
   "source": [
    "period2"
   ]
  },
  {
   "cell_type": "code",
   "execution_count": 39,
   "metadata": {
    "collapsed": true
   },
   "outputs": [],
   "source": [
    "periodnonan = period[np.logical_not(np.isnan(period))]"
   ]
  },
  {
   "cell_type": "code",
   "execution_count": 40,
   "metadata": {},
   "outputs": [
    {
     "data": {
      "text/plain": [
       "array([   7.      ,  812.      ,    2.414   ,    4.9     ,   21.      ,\n",
       "          6.58    ,    7.69    ,    2.8     ,    8.258095,    6.8449  ,\n",
       "          2.85    ,    5.09185 ,   61.068   ,   10.38254 ,    4.078414,\n",
       "         37.0088  ,  155.311   ,   62.92    ,   67.6152  ])"
      ]
     },
     "execution_count": 40,
     "metadata": {},
     "output_type": "execute_result"
    }
   ],
   "source": [
    "periodnonan"
   ]
  },
  {
   "cell_type": "code",
   "execution_count": 46,
   "metadata": {
    "collapsed": true
   },
   "outputs": [],
   "source": [
    "mag3,period3 = zip(*((x,y) for x, y in zip(mag,period) if np.logical_not(np.isnan(y))))"
   ]
  },
  {
   "cell_type": "code",
   "execution_count": 49,
   "metadata": {
    "collapsed": true
   },
   "outputs": [],
   "source": [
    "p = np.polyfit(mag3,period3,1)"
   ]
  },
  {
   "cell_type": "code",
   "execution_count": 55,
   "metadata": {
    "collapsed": true
   },
   "outputs": [],
   "source": [
    "p = np.polyfit(np.log(period3),mag3,1)"
   ]
  },
  {
   "cell_type": "code",
   "execution_count": 56,
   "metadata": {},
   "outputs": [
    {
     "data": {
      "text/plain": [
       "array([ -0.67106125,  22.53298094])"
      ]
     },
     "execution_count": 56,
     "metadata": {},
     "output_type": "execute_result"
    }
   ],
   "source": [
    "p"
   ]
  },
  {
   "cell_type": "code",
   "execution_count": null,
   "metadata": {
    "collapsed": true
   },
   "outputs": [],
   "source": []
  }
 ],
 "metadata": {
  "kernelspec": {
   "display_name": "Python 3",
   "language": "python",
   "name": "python3"
  },
  "language_info": {
   "codemirror_mode": {
    "name": "ipython",
    "version": 2
   },
   "file_extension": ".py",
   "mimetype": "text/x-python",
   "name": "python",
   "nbconvert_exporter": "python",
   "pygments_lexer": "ipython2",
   "version": "2.7.13"
  }
 },
 "nbformat": 4,
 "nbformat_minor": 2
}
