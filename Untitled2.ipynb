{
 "cells": [
  {
   "cell_type": "code",
   "execution_count": null,
   "metadata": {
    "collapsed": true
   },
   "outputs": [],
   "source": [
    "\n",
    "import subprocess\n",
    "\n",
    "Strategy = ['astro','panstars','minion','baseline']\n",
    "field = ['1304','1322','630','1929','3311']\n",
    "\n",
    "magID = 'newlist = Magnitudes.'\n",
    "obsID = 'obs = Observations.'\n",
    "outID = '/home/mj1e16/periodic/out'\n",
    "miscID = '/home/mj1e16/periodic/misc'\n",
    "\n",
    "for na,name in enumerate(Strategy):\n",
    "    for nu,number in enumerate(field):\n",
    "        for cycle in range(20):\n",
    "            subprocess.call(['cp','masterFile.py',name+number+'.py'])\n",
    "            f = open(name+number+'.py','r')\n",
    "            string = f.read()\n",
    "            loc1 = string.find(magID) + len(magID)\n",
    "            #loc2 = string.find(obsID) + len(obsID)\n",
    "            newstring = string[:loc1]+'mag'+number+string[loc1:]\n",
    "            loc2 = newstring.find(obsID) + len(obsID)\n",
    "            if name == 'minionOC':\n",
    "                finalstring = newstring[:loc2]+'obs'+name+number+'\\nfor y in range(len(obs)):\\n    for x in range(len(obs[y])):\\n        obs[y][x] = obs[y][x] + ((random.random()*2.$\n",
    "            else:\n",
    "                finalstring = newstring[:loc2]+'obs'+name+number+newstring[loc2:]\n",
    "            f.close()\n",
    "            loc3 = finalstring.find(outID) + len(outID)\n",
    "            newfinalstring = finalstring[:loc3]+name+number+finalstring[loc3:]\n",
    "            f2 = open(name+number+'.py','w')\n",
    "            f2.write(newfinalstring)\n",
    "            f.close()\n"
   ]
  },
  {
   "cell_type": "code",
   "execution_count": null,
   "metadata": {
    "collapsed": true
   },
   "outputs": [],
   "source": [
    "\n",
    "#Strat = ['astro152','astro169','astro630','astro1304','astro1322']\n",
    "#Strat = ['astro152','astro169','astro630','astro1304','astro1322','minion152','minion169','minion630','minion1304','minion1322','minionOC152','minionOC169','minionOC630','minio$\n",
    "name = ['astro','minion','minionOC','panstars','baseline']\n",
    "number = ['1304','1322','630','169','1929','3311']\n",
    "\n",
    "for x,na in enumerate(name):\n",
    "    for y,num in enumerate(number):\n",
    "        strat = na+num\n",
    "        f = open(strat+'.py','r')\n",
    "        data = f.read()\n",
    "        f.close()\n",
    "        loc1 = data.find('startnumber = 0')\n",
    "        loc2 = loc1 + 16\n",
    "        locationID = 'secondstartnumber = 0'\n",
    "        location1 = data.find(locationID) + len(locationID)\n",
    "        f1 = open('noVMastro152.sh','r')\n",
    "        data1 = f1.read()\n",
    "        f1.close()\n",
    "        loc3 = data1.find('astro152.')\n",
    "        #print(data[loc1:loc1+8])\n",
    "        loc4 = data1.find('.py')\n",
    "        print(data1[loc3:loc3+8])\n",
    "        for x in range(0,20):\n",
    "            for y in range(20):\n",
    "                f2 = open(strat+'_'+str(x)+'_'+str(y)+'.py','w')\n",
    "                f2.write(data[:loc2]+'+ '+str(x)+data[loc2:location1]+'+ '+str(y)+data[location1:])\n",
    "                f2.close()\n",
    "                f3 = open('noVM'+strat+'_'+str(x)+'_'+str(y)+'.sh','w')\n",
    "                f3.write(data1[:loc3]+strat+'_'+str(x)+'_'+str(y)+data1[loc4:])\n",
    "                f3.close()\n",
    "                f4 = open('noVM'+strat+'_'+str(x)+'_'+str(y)+'.sh','r')\n",
    "                data4 = f4.read()\n",
    "                f4.close()\n",
    "                noVMer = '#PBS -N noVM'\n",
    "                loc5 = data4.find(noVMer)+len(noVMer)\n",
    "                f5 = open('noVM'+strat+'_'+str(x)+'.sh','w')\n",
    "                f5.write(data4[:loc5]+'_'+strat+'_'+str(x)+'_'+str(y)+data4[loc5:])\n",
    "                f5.close()\n",
    "            \n",
    "                \n",
    "                \n",
    "        "
   ]
  }
 ],
 "metadata": {
  "kernelspec": {
   "display_name": "Python 2",
   "language": "python",
   "name": "python2"
  },
  "language_info": {
   "codemirror_mode": {
    "name": "ipython",
    "version": 2
   },
   "file_extension": ".py",
   "mimetype": "text/x-python",
   "name": "python",
   "nbconvert_exporter": "python",
   "pygments_lexer": "ipython2",
   "version": "2.7.13"
  }
 },
 "nbformat": 4,
 "nbformat_minor": 2
}
